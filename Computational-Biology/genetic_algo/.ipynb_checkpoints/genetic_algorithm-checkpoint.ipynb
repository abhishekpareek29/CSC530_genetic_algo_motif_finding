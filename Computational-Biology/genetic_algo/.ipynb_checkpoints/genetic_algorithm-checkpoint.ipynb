{
 "cells": [
  {
   "cell_type": "code",
   "execution_count": 1,
   "metadata": {},
   "outputs": [
    {
     "name": "stdout",
     "output_type": "stream",
     "text": [
      "Common file resource included"
     ]
    }
   ],
   "source": [
    "using Distributions\n",
    "include(\"common.jl\")\n",
    "enough_time = 60\n",
    "using PyPlot"
   ]
  },
  {
   "cell_type": "code",
   "execution_count": 2,
   "metadata": {},
   "outputs": [
    {
     "data": {
      "text/plain": [
       "calculate_minimum_hamming_distance (generic function with 1 method)"
      ]
     },
     "execution_count": 2,
     "metadata": {},
     "output_type": "execute_result"
    }
   ],
   "source": [
    "function calculate_minimum_hamming_distance(motif, string, input_motif_length)\n",
    "    string_motifs = get_nth_substrings(input_motif_length, string)\n",
    "    error = input_motif_length\n",
    "    for substring in string_motifs\n",
    "        substring_error = calculate_hamming_distance(substring, motif)\n",
    "        if substring_error < error\n",
    "            error = substring_error\n",
    "        end\n",
    "    end\n",
    "    return error\n",
    "end"
   ]
  },
  {
   "cell_type": "code",
   "execution_count": 3,
   "metadata": {},
   "outputs": [
    {
     "data": {
      "text/plain": [
       "calculate_fitness_score (generic function with 1 method)"
      ]
     },
     "execution_count": 3,
     "metadata": {},
     "output_type": "execute_result"
    }
   ],
   "source": [
    "function calculate_fitness_score(motif, input_motif_length)\n",
    "    fitness_score = 0\n",
    "    # valid = True\n",
    "    for string in input_strings\n",
    "        string_score = calculate_minimum_hamming_distance(motif, string, input_motif_length)\n",
    "        fitness_score = fitness_score + string_score\n",
    "    end\n",
    "    return (input_motif_length * length(input_strings)) - fitness_score\n",
    "end"
   ]
  },
  {
   "cell_type": "code",
   "execution_count": 4,
   "metadata": {},
   "outputs": [
    {
     "data": {
      "text/plain": [
       "mutate (generic function with 1 method)"
      ]
     },
     "execution_count": 4,
     "metadata": {},
     "output_type": "execute_result"
    }
   ],
   "source": [
    "function mutate(motif, motif_characters, all_created_motifs)\n",
    "    new_motif = generate_adjecent_motif(motif, motif_characters, all_created_motifs)\n",
    "    if handled_previously(new_motif, all_created_motifs)\n",
    "        return mutate(motif, motif_characters, all_created_motifs)\n",
    "    end\n",
    "    return new_motif\n",
    "end"
   ]
  },
  {
   "cell_type": "code",
   "execution_count": 5,
   "metadata": {},
   "outputs": [
    {
     "data": {
      "text/plain": [
       "reproduce (generic function with 1 method)"
      ]
     },
     "execution_count": 5,
     "metadata": {},
     "output_type": "execute_result"
    }
   ],
   "source": [
    "function reproduce(mom, dad, input_motif_length)\n",
    "    random_index = rand([i for i in 1:input_motif_length-1])\n",
    "    if (random_index - input_motif_length) < 0\n",
    "        idx = input_motif_length + (random_index - input_motif_length) + 1\n",
    "    else\n",
    "        idx = (random_index - input_motif_length)\n",
    "    end\n",
    "    son = string(mom[1:random_index], dad[idx:end])\n",
    "    daughter = string(dad[1:random_index], mom[idx:end])\n",
    "#     son = mom[1:random_index] + dad[idx:end]\n",
    "#     daughter = dad[1:random_index] + mom[idx:end]\n",
    "    return (son, daughter)\n",
    "end"
   ]
  },
  {
   "cell_type": "code",
   "execution_count": 6,
   "metadata": {},
   "outputs": [
    {
     "data": {
      "text/plain": [
       "handled_previously (generic function with 1 method)"
      ]
     },
     "execution_count": 6,
     "metadata": {},
     "output_type": "execute_result"
    }
   ],
   "source": [
    "function handled_previously(motif, all_created_motifs)\n",
    "    return motif in all_created_motifs\n",
    "end"
   ]
  },
  {
   "cell_type": "code",
   "execution_count": 7,
   "metadata": {},
   "outputs": [
    {
     "data": {
      "text/plain": [
       "generate_initial_population (generic function with 1 method)"
      ]
     },
     "execution_count": 7,
     "metadata": {},
     "output_type": "execute_result"
    }
   ],
   "source": [
    "function generate_initial_population(size, all_created_motifs, input_motif_length, motif_characters)\n",
    "    population = []\n",
    "    for i in 1:size\n",
    "        motif = generate_random_potential_motif(input_motif_length, motif_characters)\n",
    "        push!(population, motif)\n",
    "        push!(all_created_motifs, motif)\n",
    "    end\n",
    "    return (collect(Set(population)), collect(Set(all_created_motifs)))\n",
    "end"
   ]
  },
  {
   "cell_type": "code",
   "execution_count": 8,
   "metadata": {},
   "outputs": [
    {
     "data": {
      "text/plain": [
       "get_random_from_population (generic function with 1 method)"
      ]
     },
     "execution_count": 8,
     "metadata": {},
     "output_type": "execute_result"
    }
   ],
   "source": [
    "function get_random_from_population(population, partner, input_motif_length)\n",
    "    random_index = rand([i for i in 1:length(population)])\n",
    "    motif = population[random_index]\n",
    "    if ((!isempty(partner)) && (partner == motif))\n",
    "        return get_random_from_population(population, partner, input_motif_length)\n",
    "    else\n",
    "        return motif, get_fitness_score_percentage(motif, input_motif_length)\n",
    "    end\n",
    "end"
   ]
  },
  {
   "cell_type": "code",
   "execution_count": 9,
   "metadata": {},
   "outputs": [
    {
     "data": {
      "text/plain": [
       "get_fitness_score_percentage (generic function with 1 method)"
      ]
     },
     "execution_count": 9,
     "metadata": {},
     "output_type": "execute_result"
    }
   ],
   "source": [
    "function get_fitness_score_percentage(motif, input_motif_length)\n",
    "    return calculate_fitness_score(motif, input_motif_length) / (input_motif_length * length(input_strings))\n",
    "end"
   ]
  },
  {
   "cell_type": "code",
   "execution_count": 10,
   "metadata": {
    "scrolled": true
   },
   "outputs": [
    {
     "data": {
      "text/plain": [
       "genetic_algorithm (generic function with 1 method)"
      ]
     },
     "execution_count": 10,
     "metadata": {},
     "output_type": "execute_result"
    }
   ],
   "source": [
    "function genetic_algorithm(size, input_motif_length, all_created_motifs, motif_characters, input_hamming_distance)\n",
    "    ga_time = time()\n",
    "    done = false\n",
    "    answer = \"\"\n",
    "    answer_score = 0\n",
    "    most_close_to_answer = \"\"\n",
    "    most_close_to_answer_score = 0\n",
    "    (population, all_created_motifs) = generate_initial_population(size, all_created_motifs, input_motif_length, motif_characters)\n",
    "    while !done\n",
    "        new_population = []\n",
    "        if(length(population) < size)\n",
    "            for i in 1:size - length(population)\n",
    "                push!(population, generate_random_potential_motif(input_motif_length, motif_characters))\n",
    "            end\n",
    "        end\n",
    "        for i in 1:length(population)\n",
    "            (random_motif_dad, dad_fitness_score) = get_random_from_population(population, [], input_motif_length)\n",
    "            (best_motif, best_score) = (random_motif_dad, dad_fitness_score)\n",
    "            (random_motif_mom, mom_fitness_score) = get_random_from_population(population, random_motif_dad, input_motif_length)\n",
    "            if mom_fitness_score > best_score\n",
    "                (best_motif, best_score) = (random_motif_mom, mom_fitness_score)\n",
    "            end\n",
    "            (motif_son, motif_daughter) = reproduce(random_motif_mom, random_motif_dad, input_motif_length)\n",
    "#             print(\"\\n\", motif_son, \" is child of \", random_motif_mom, \" and \", random_motif_dad, \"!\")\n",
    "#             print(\"\\n\", motif_daughter, \" is child of \", random_motif_mom, \" and \", random_motif_dad, '!')\n",
    "            random_probability = rand(Uniform(0, 1))\n",
    "            son_score = get_fitness_score_percentage(motif_son, input_motif_length)\n",
    "            if son_score > best_score\n",
    "                (best_motif, best_score) = (motif_son, son_score)\n",
    "            elseif random_probability < 0.1\n",
    "                motif_son = mutate(motif_son, motif_characters, all_created_motifs)\n",
    "                son_score = get_fitness_score_percentage(motif_son, input_motif_length)\n",
    "                if son_score > best_score\n",
    "                    (best_motif, best_score) = (motif_son, son_score)\n",
    "                end\n",
    "            end\n",
    "\n",
    "            daughter_score = get_fitness_score_percentage(motif_daughter, input_motif_length)\n",
    "            if daughter_score > best_score\n",
    "                (best_motif, best_score) = (motif_daughter, daughter_score)\n",
    "            elseif random_probability < 0.1\n",
    "                motif_daughter = mutate(motif_daughter, motif_characters, all_created_motifs)\n",
    "                daughter_score = get_fitness_score_percentage(motif_daughter, input_motif_length)\n",
    "                if daughter_score > best_score\n",
    "                    (best_motif, best_score) = (motif_daughter, daughter_score)\n",
    "                end\n",
    "            end\n",
    "\n",
    "            if son_score > daughter_score\n",
    "                push!(new_population, motif_son)\n",
    "            else\n",
    "                push!(new_population, motif_daughter)\n",
    "            end\n",
    "\n",
    "            if (isempty(most_close_to_answer) || best_score > most_close_to_answer_score)\n",
    "                (most_close_to_answer, most_close_to_answer_score) = (best_motif, best_score)\n",
    "            end\n",
    "#             print(best_motif, \" is best motif with fitness of \", string(get_fitness_score_percentage(best_motif, input_motif_length)))\n",
    "            push!(new_population, best_motif)\n",
    "        end\n",
    "        population = collect(Set(new_population))\n",
    "\n",
    "        if time() - ga_time > enough_time\n",
    "            done = true\n",
    "        end\n",
    "        for motif in population\n",
    "            if is_motif_valid(motif, input_hamming_distance, input_motif_length) == true\n",
    "                done = true\n",
    "                answer = motif\n",
    "                answer_score = get_fitness_score_percentage(answer, input_motif_length)\n",
    "                break\n",
    "            end\n",
    "        end\n",
    "    end\n",
    "    \n",
    "    if !isempty(answer)\n",
    "        return Dict(\"best_answer\"=>answer, \"best_score\"=>answer_score)\n",
    "    else\n",
    "        return Dict(\"best_answer\"=>most_close_to_answer, \"best_score\"=>most_close_to_answer_score)\n",
    "    end\n",
    "end\n",
    "\n"
   ]
  },
  {
   "cell_type": "code",
   "execution_count": 11,
   "metadata": {},
   "outputs": [
    {
     "name": "stdout",
     "output_type": "stream",
     "text": [
      "\n",
      "Best found motif is TCGCA with fitness score of 0.8666666666666667\n",
      "Best found motif is AGATGT with fitness score of 0.8888888888888888\n",
      "Best found motif is TCACTGA with fitness score of 0.8571428571428571\n",
      "Best found motif is TGACAAGA with fitness score of 0.875\n",
      "Best found motif is AAGAGAAAA with fitness score of 0.9074074074074074\n",
      "Best found motif is AAGAGAAAAA with fitness score of 0.8833333333333333\n",
      "Best found motif is TTCCTCTCCAG with fitness score of 0.8484848484848485\n",
      "Best found motif is AAAGAGAAAAAA with fitness score of 0.8333333333333334\n",
      "Best found motif is AAAAGATACAAAA with fitness score of 0.8076923076923077\n",
      "Best found motif is AAAATAATTTTGAA with fitness score of 0.8095238095238095\n",
      "Best found motif is AAAAAGATACAAAAG with fitness score of 0.7888888888888889\n",
      "Best found motif is TATTTTTAAATTATTT with fitness score of 0.75\n",
      "Best found motif is AACTTACTTTGAATTCT with fitness score of 0.7647058823529411\n",
      "Best found motif is TAAACAGACAAAAATGTT with fitness score of 0.7314814814814815\n",
      "Best found motif is AATAATAATCCAAAAATAT with fitness score of 0.7280701754385965\n",
      "Best found motif is ATCAAGCAATATTGGCTCAA with fitness score of 0.7083333333333334\n",
      "Best found motif is AGAAATAGAGGCAAGAGTAGA with fitness score of 0.6904761904761905\n",
      "Best found motif is ATATAATTCTGTGTCTGACTTC with fitness score of 0.6742424242424242\n",
      "Best found motif is AATAATAATAAAAACAAATGAGA with fitness score of 0.6739130434782609\n",
      "Best found motif is ATTAAAAATGTAAAAGAAAAAAAA with fitness score of 0.6666666666666666\n",
      "Best found motif is AAAGGAGTTTGTTACACAATCCTCA with fitness score of 0.6533333333333333\n",
      "Best found motif is CAAAAAAGAATTTGTGATAATTGTTT with fitness score of 0.6410256410256411\n",
      "Best found motif is AATTGAAAAAGGGGACAAATAGGAAAA with fitness score of 0.6419753086419753\n",
      "Best found motif is TTCCCTGCGTTGATAGCCCTAATGCTAA with fitness score of 0.6309523809523809\n",
      "Best found motif is TTTTACAGCATCAAATGAAAAGATTTGCT with fitness score of 0.6379310344827587\n",
      "Best found motif is AAATGATACCTAAAGTGAAGACCCTAACAA with fitness score of 0.6333333333333333\n",
      "Best found motif is TGACTTCATTTGTATCTTATTTTGCTTCCCA with fitness score of 0.6236559139784946\n",
      "Best found motif is TTTGTATTTCAGATTTGTTTATTTGGTAGTAT with fitness score of 0.609375\n",
      "Best found motif is ACTACACATTTAGAAATAAAAACAAAAGAACAT with fitness score of 0.6060606060606061\n",
      "Best found motif is TGTAACCCATTTTACCATATTAATTAAGAAGCTT with fitness score of 0.5931372549019608\n",
      "Best found motif is TAGCAAATTGGAGATAGTAAGAGATAAGGACTATT with fitness score of 0.5904761904761905\n",
      "Best found motif is CAACTGTAGAGAAGAGTCTCCAAGAACTGAGAACTT with fitness score of 0.5787037037037037\n",
      "Best found motif is AAAAGTATGTAATATAAAAAAAGAATTTTTGTCTTTT with fitness score of 0.5765765765765766\n",
      "Best found motif is GAAAGAAAGAGAAGCTACACCTAGCTCAAGATCTTAAA with fitness score of 0.5701754385964912\n",
      "Best found motif is TCTCAGATTTCCTTTGTCTAACTCTTATTTCCGGACTGA with fitness score of 0.5897435897435898\n",
      "Best found motif is GCAAATTCTTGTAAAGATGGGGTGAAAAATGCATGGAATG with fitness score of 0.5625\n",
      "Best found motif is AGCTGAAACTCACAGAAATAATTCAAATAATGAACTACATT with fitness score of 0.556910569105691\n",
      "Best found motif is TGATCACTCAATATTGATCAATAAATACTATTTGTGGTAATG with fitness score of 0.5595238095238095\n",
      "Best found motif is AGAAAGAAATTAGTTGTTGTTTTGCAGAGATAGAAGATAGAAG with fitness score of 0.562015503875969\n",
      "Best found motif is ATAGAAACCGTGAAATTTACATTGATTAATTGCTTTATGTTATT with fitness score of 0.5568181818181818\n",
      "Best found motif is AAAAATCCAAATACTAATGGAGGTATTAATTTTCCTGTAATGCTT with fitness score of 0.5555555555555556"
     ]
    }
   ],
   "source": [
    "size = 50\n",
    "answers = []\n",
    "elapsed_times = []\n",
    "mo_lens = []\n",
    "for mo_len in 5:size-5\n",
    "    st = time()\n",
    "    answer = genetic_algorithm(size, mo_len, [], [\"A\", \"C\", \"G\", \"T\"], 1)\n",
    "\n",
    "    print(\"\\nBest found motif is \", answer[\"best_answer\"], \" with fitness score of \", string(answer[\"best_score\"]))\n",
    "\n",
    "    \n",
    "    if time() - ga_time > enough_time\n",
    "        done = true\n",
    "    end\n",
    "    \n",
    "    push!(answers, answer[\"best_score\"])\n",
    "    push!(mo_lens, mo_len)\n",
    "    push!(elapsed_times, time() - st)\n",
    "end\n"
   ]
  },
  {
   "cell_type": "code",
   "execution_count": 12,
   "metadata": {},
   "outputs": [
    {
     "data": {
      "image/png": "[encoded data removed]",
      "text/plain": [
       "Figure(PyObject <Figure size 640x480 with 1 Axes>)"
      ]
     },
     "metadata": {},
     "output_type": "display_data"
    },
    {
     "data": {
      "text/plain": [
       "PyObject Text(0.5, 1, 'Motif Scores VS increasing length of motif')"
      ]
     },
     "execution_count": 12,
     "metadata": {},
     "output_type": "execute_result"
    }
   ],
   "source": [
    "plot(mo_lens, answers, color=\"red\", linewidth=2.0, linestyle=\"-\")\n",
    "xlabel(\"Motif length\")\n",
    "ylabel(\"Motif Scores\")\n",
    "title(\"Motif Scores VS increasing length of motif\")"
   ]
  },
  {
   "cell_type": "code",
   "execution_count": 13,
   "metadata": {},
   "outputs": [
    {
     "data": {
      "image/png": "[encoded data removed]",
      "text/plain": [
       "Figure(PyObject <Figure size 640x480 with 1 Axes>)"
      ]
     },
     "metadata": {},
     "output_type": "display_data"
    },
    {
     "data": {
      "text/plain": [
       "PyObject Text(0.5, 1, 'Elapsed time VS Increasing Motif Length')"
      ]
     },
     "execution_count": 13,
     "metadata": {},
     "output_type": "execute_result"
    }
   ],
   "source": [
    "plot(mo_lens, elapsed_times, color=\"red\", linewidth=2.0, linestyle=\"-\")\n",
    "xlabel(\"Motif Length\")\n",
    "ylabel(\"Elapsed time\")\n",
    "title(\"Elapsed time VS Increasing Motif Length\")"
   ]
  }
 ],
 "metadata": {
  "kernelspec": {
   "display_name": "Julia 1.2.0",
   "language": "julia",
   "name": "julia-1.2"
  },
  "language_info": {
   "file_extension": ".jl",
   "mimetype": "application/julia",
   "name": "julia",
   "version": "1.2.0"
  }
 },
 "nbformat": 4,
 "nbformat_minor": 2
}
